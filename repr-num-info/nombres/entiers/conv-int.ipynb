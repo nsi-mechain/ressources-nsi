{
 "cells": [
  {
   "cell_type": "markdown",
   "metadata": {},
   "source": [
    "# Codage des nombres entiers"
   ]
  },
  {
   "cell_type": "markdown",
   "metadata": {},
   "source": [
    "## Exercice 1 : entiers naturels\n",
    "1. Complétez le tableau suivant.\n",
    "\n",
    "|  déc |     bin    | hex |\n",
    "|:----:|:----------:|:---:|\n",
    "|  23  |            |     |\n",
    "|      | 10110100   |     |\n",
    "|      |            | 1F  |\n",
    "|      | 1111111111 |     |\n",
    "| 1024 |            |     |\n",
    "|      |            | 33  |\n",
    "|      | 1          |     |\n",
    "\n",
    "2. Convertissez 12457 en **binaire** par la méthode des divisions successives.\n",
    "3. Convertissez ce même nombre en **hexadécimal** par la même méthode.\n",
    "4. En *Python*, concevez un programme permettant de vérifier les conversions du tableau de la question 1 (utilisez les *fstrings*)"
   ]
  },
  {
   "cell_type": "markdown",
   "metadata": {},
   "source": [
    "## Exercice 2 : Code *complément à deux*\n",
    "\n",
    "1. Complétez le tableau suivant, en considérant que les nombres sont codés sur **1 octet**.\n",
    "\n",
    "|  déc |    bin   | hex |\n",
    "|:----:|:--------:|:---:|\n",
    "|  10  |          |     |\n",
    "| -10  |          |     |\n",
    "|      | 00000000 |     |\n",
    "|      | 01000010 |     |\n",
    "| -1   |          |     |\n",
    "|      |          | FF  |\n",
    "|      |          | 7F  |\n",
    "| 126  |          |     |\n",
    "| 127  |          |     |\n",
    "| 128  |          |     |\n",
    "| -128 |          |     |\n",
    "| -200 |          |     |\n",
    "\n",
    "1. Vérifiez **à la main** et en binaire que les opérations arithmétiques suivantes \"fonctionnent\" :\n",
    "   - -16 + 5\n",
    "   - -54 - 23\n",
    "   - 24 + (-10)\n",
    "2. En *Python*, concevez une **fonction** permettant de convertir un entier en un une chaîne de caractères le représentant en binaire sur 1 octet en *code complément à deux*\n",
    "3. Idem pour la **fonction** réciproque "
   ]
  },
  {
   "cell_type": "markdown",
   "metadata": {},
   "source": []
  }
 ],
 "metadata": {
  "kernelspec": {
   "display_name": "Python 3 (ipykernel)",
   "language": "python",
   "name": "python3"
  },
  "language_info": {
   "codemirror_mode": {
    "name": "ipython",
    "version": 3
   },
   "file_extension": ".py",
   "mimetype": "text/x-python",
   "name": "python",
   "nbconvert_exporter": "python",
   "pygments_lexer": "ipython3",
   "version": "3.10.12"
  }
 },
 "nbformat": 4,
 "nbformat_minor": 4
}
