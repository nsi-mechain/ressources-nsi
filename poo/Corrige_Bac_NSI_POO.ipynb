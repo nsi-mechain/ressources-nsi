{
 "cells": [
  {
   "cell_type": "markdown",
   "id": "21d1cbef",
   "metadata": {},
   "source": [
    "# Corrigé — Exercices de Bac NSI — POO"
   ]
  },
  {
   "cell_type": "code",
   "execution_count": 1,
   "id": "271c8c1f",
   "metadata": {},
   "outputs": [
    {
     "name": "stdout",
     "output_type": "stream",
     "text": [
      "3.13.7 (main, Aug 14 2025, 00:00:00) [GCC 15.2.1 20250808 (Red Hat 15.2.1-1)]\n",
      "CPython Linux-6.16.8-200.fc42.x86_64-x86_64-with-glibc2.41\n"
     ]
    }
   ],
   "source": [
    "# Vérification rapide de l'environnement Python\n",
    "import sys, platform\n",
    "print(sys.version)\n",
    "print(platform.python_implementation(), platform.platform())"
   ]
  },
  {
   "cell_type": "markdown",
   "id": "de33b874",
   "metadata": {},
   "source": [
    "## Exercice 1 — Classe simple : `Lampe`\n",
    "\n",
    "**Objectifs :** attributs d'instance, méthode spéciale `__str__`, et **attribut de classe** pour compter les instances."
   ]
  },
  {
   "cell_type": "code",
   "execution_count": 2,
   "id": "31177ed5",
   "metadata": {},
   "outputs": [
    {
     "name": "stdout",
     "output_type": "stream",
     "text": [
      "Lampe rouge (allumée)\n",
      "Lampe bleue (éteinte)\n",
      "2\n"
     ]
    }
   ],
   "source": [
    "class Lampe:\n",
    "    compteur = 0  # attribut de classe : nombre de lampes créées\n",
    "    \n",
    "    def __init__(self, couleur):\n",
    "        self.couleur = couleur\n",
    "        self.allumee = False  # valeur initiale\n",
    "        Lampe.compteur += 1\n",
    "\n",
    "    def allumer(self):\n",
    "        self.allumee = True\n",
    "\n",
    "    def eteindre(self):\n",
    "        self.allumee = False\n",
    "\n",
    "    def __str__(self):\n",
    "        etat = \"allumée\" if self.allumee else \"éteinte\"\n",
    "        return f\"Lampe {self.couleur} ({etat})\"\n",
    "\n",
    "# Démonstration\n",
    "l1 = Lampe(\"rouge\")\n",
    "l2 = Lampe(\"bleue\")\n",
    "l1.allumer()\n",
    "print(l1)           # Lampe rouge (allumée)\n",
    "print(l2)           # Lampe bleue (éteinte)\n",
    "print(Lampe.compteur)  # 2\n",
    "\n",
    "# Tests rapides\n",
    "assert l2.allumee is False\n",
    "assert Lampe.compteur >= 2"
   ]
  },
  {
   "cell_type": "markdown",
   "id": "3f1d8af7",
   "metadata": {},
   "source": [
    "## Exercice 2 — `Compte` bancaire avec `virement`\n",
    "\n",
    "**Objectifs :** méthodes, encapsulation simple du solde, contrôle des préconditions (solde suffisant)."
   ]
  },
  {
   "cell_type": "code",
   "execution_count": 3,
   "id": "ea45f4bc",
   "metadata": {},
   "outputs": [
    {
     "name": "stdout",
     "output_type": "stream",
     "text": [
      "Compte de Alice : 100 € Compte de Bob : 20 €\n",
      "Compte de Alice : 50 € Compte de Bob : 70 €\n",
      "Compte de Alice : 50 € Compte de Bob : 70 €\n"
     ]
    }
   ],
   "source": [
    "class Compte:\n",
    "    def __init__(self, titulaire, solde=0):\n",
    "        self.titulaire = titulaire\n",
    "        self.solde = solde\n",
    "\n",
    "    def deposer(self, montant):\n",
    "        self.solde += montant\n",
    "\n",
    "    def retirer(self, montant):\n",
    "        if montant <= self.solde:\n",
    "            self.solde -= montant\n",
    "            return True\n",
    "        return False\n",
    "\n",
    "    def virement(self, autre_compte, montant):\n",
    "        if self.retirer(montant):\n",
    "            autre_compte.deposer(montant)\n",
    "            return True\n",
    "        return False\n",
    "\n",
    "    def __str__(self):\n",
    "        return f\"Compte de {self.titulaire} : {self.solde} €\"\n",
    "\n",
    "# Démonstration\n",
    "a = Compte(\"Alice\", 100)\n",
    "b = Compte(\"Bob\", 20)\n",
    "print(a, b)\n",
    "assert a.virement(b, 50) is True\n",
    "print(a, b)\n",
    "assert a.virement(b, 80) is False  # solde insuffisant, pas de mouvement\n",
    "print(a, b)"
   ]
  },
  {
   "cell_type": "markdown",
   "id": "77466f07",
   "metadata": {},
   "source": [
    "## Exercice 3 — Héritage `Forme` → `Cercle`, `Rectangle`\n",
    "\n",
    "**Objectifs :** héritage, redéfinition de méthode (`aire`), usage de `super()` et polymorphisme via une fonction."
   ]
  },
  {
   "cell_type": "code",
   "execution_count": 4,
   "id": "7ab199d9",
   "metadata": {},
   "outputs": [
    {
     "name": "stdout",
     "output_type": "stream",
     "text": [
      "Aire du cercle : 28.274333882308138\n",
      "Aire du rectangle : 20\n"
     ]
    }
   ],
   "source": [
    "import math\n",
    "\n",
    "class Forme:\n",
    "    def __init__(self, nom):\n",
    "        self.nom = nom\n",
    "    def aire(self):\n",
    "        return 0\n",
    "\n",
    "class Cercle(Forme):\n",
    "    def __init__(self, rayon):\n",
    "        super().__init__(\"cercle\")\n",
    "        self.rayon = rayon\n",
    "    def aire(self):\n",
    "        return math.pi * (self.rayon ** 2)\n",
    "\n",
    "class Rectangle(Forme):\n",
    "    def __init__(self, largeur, hauteur):\n",
    "        super().__init__(\"rectangle\")\n",
    "        self.largeur = largeur\n",
    "        self.hauteur = hauteur\n",
    "    def aire(self):\n",
    "        return self.largeur * self.hauteur\n",
    "\n",
    "def afficher_aire(forme):\n",
    "    print(f\"Aire du {forme.nom} :\", forme.aire())\n",
    "\n",
    "# Démonstration\n",
    "afficher_aire(Cercle(3))       # ~28.27\n",
    "afficher_aire(Rectangle(4, 5)) # 20\n",
    "\n",
    "# Tests rapides (tolérance)\n",
    "assert abs(Cercle(3).aire() - 28.2743338823) < 1e-6\n",
    "assert Rectangle(4,5).aire() == 20"
   ]
  },
  {
   "cell_type": "markdown",
   "id": "6157ee39",
   "metadata": {},
   "source": [
    "## Exercice 4 — Zoo : polymorphisme\n",
    "\n",
    "**Objectifs :** héritage simple et redéfinition de méthode `parler()`."
   ]
  },
  {
   "cell_type": "code",
   "execution_count": 5,
   "id": "6174d843",
   "metadata": {},
   "outputs": [
    {
     "name": "stdout",
     "output_type": "stream",
     "text": [
      "Rex -> Woof!\n",
      "Mina -> Miaou!\n",
      "Mystère -> ...\n"
     ]
    }
   ],
   "source": [
    "class Animal:\n",
    "    def __init__(self, nom):\n",
    "        self.nom = nom\n",
    "    def parler(self):\n",
    "        return \"...\"\n",
    "\n",
    "class Chien(Animal):\n",
    "    def parler(self):\n",
    "        return \"Woof!\"\n",
    "\n",
    "class Chat(Animal):\n",
    "    def parler(self):\n",
    "        return \"Miaou!\"\n",
    "\n",
    "animaux = [Chien(\"Rex\"), Chat(\"Mina\"), Animal(\"Mystère\")]\n",
    "for a in animaux:\n",
    "    print(a.nom, \"->\", a.parler())\n",
    "\n",
    "# Tests\n",
    "assert Chien(\"X\").parler() == \"Woof!\"\n",
    "assert Chat(\"Y\").parler() == \"Miaou!\"\n",
    "assert Animal(\"Z\").parler() == \"...\""
   ]
  },
  {
   "cell_type": "markdown",
   "id": "8ac0e2cb",
   "metadata": {},
   "source": [
    "## Exercice 5 — Réseau social simplifié : `suggestions()`\n",
    "\n",
    "**Objectifs :** relation bidirectionnelle, parcours des \"amis de mes amis\" et filtration (pas soi-même, pas déjà ami)."
   ]
  },
  {
   "cell_type": "code",
   "execution_count": 6,
   "id": "bbfca1e1",
   "metadata": {},
   "outputs": [
    {
     "name": "stdout",
     "output_type": "stream",
     "text": [
      "Alice est amie avec Carla ? False\n",
      "Suggestions pour Alice : ['Carla']\n"
     ]
    }
   ],
   "source": [
    "class Utilisateur:\n",
    "    def __init__(self, nom):\n",
    "        self.nom = nom\n",
    "        self.amis = []\n",
    "\n",
    "    def ajouter_ami(self, autre):\n",
    "        if autre not in self.amis and autre != self:\n",
    "            self.amis.append(autre)\n",
    "            autre.amis.append(self)\n",
    "\n",
    "    def est_ami(self, autre):\n",
    "        return autre in self.amis\n",
    "\n",
    "    def suggestions(self):\n",
    "        s = set()\n",
    "        for ami in self.amis:\n",
    "            for candidat in ami.amis:\n",
    "                if candidat is not self and candidat not in self.amis:\n",
    "                    s.add(candidat)\n",
    "        return list(s)\n",
    "\n",
    "    def __str__(self):\n",
    "        return f\"{self.nom} ({len(self.amis)} amis)\"\n",
    "\n",
    "# Démonstration\n",
    "alice = Utilisateur(\"Alice\")\n",
    "bob   = Utilisateur(\"Bob\")\n",
    "carla = Utilisateur(\"Carla\")\n",
    "\n",
    "alice.ajouter_ami(bob)\n",
    "bob.ajouter_ami(carla)\n",
    "\n",
    "print(\"Alice est amie avec Carla ?\", alice.est_ami(carla))\n",
    "print(\"Suggestions pour Alice :\", [u.nom for u in alice.suggestions()])\n",
    "\n",
    "# Tests\n",
    "assert alice.est_ami(carla) is False\n",
    "assert [u.nom for u in alice.suggestions()] == [\"Carla\"]"
   ]
  }
 ],
 "metadata": {
  "kernelspec": {
   "display_name": "venv",
   "language": "python",
   "name": "python3"
  },
  "language_info": {
   "codemirror_mode": {
    "name": "ipython",
    "version": 3
   },
   "file_extension": ".py",
   "mimetype": "text/x-python",
   "name": "python",
   "nbconvert_exporter": "python",
   "pygments_lexer": "ipython3",
   "version": "3.13.7"
  }
 },
 "nbformat": 4,
 "nbformat_minor": 5
}
